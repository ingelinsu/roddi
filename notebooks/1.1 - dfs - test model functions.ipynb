{
 "cells": [
  {
   "cell_type": "markdown",
   "metadata": {},
   "source": [
    "# Teste funksjoner i models.py\n",
    "## Initialisering"
   ]
  },
  {
   "cell_type": "code",
   "execution_count": 1,
   "metadata": {},
   "outputs": [
    {
     "data": {
      "text/plain": [
       "'settingsfile'"
      ]
     },
     "execution_count": 1,
     "metadata": {},
     "output_type": "execute_result"
    }
   ],
   "source": [
    "import os, sys\n",
    "os.environ[\"DJANGO_ALLOW_ASYNC_UNSAFE\"] = \"true\"\n",
    "sys.path.insert(0, r'C:\\Users\\dansch\\OneDrive\\Programvareutvikling\\Prosjekt\\roddi')\n",
    "os.environ.setdefault(\"DJANGO_SETTINGS_MODULE\", \"settingsfile\")"
   ]
  },
  {
   "cell_type": "code",
   "execution_count": 13,
   "metadata": {},
   "outputs": [],
   "source": [
    "# Need different path format on Unix\n",
    "import os, sys\n",
    "os.environ[\"DJANGO_ALLOW_ASYNC_UNSAFE\"] = \"true\"\n",
    "sys.path.insert(0, os.path.abspath(\"../backend\"))\n",
    "os.environ[\"DJANGO_SETTINGS_MODULE\"] = \"backend.settings\""
   ]
  },
  {
   "cell_type": "code",
   "execution_count": 16,
   "metadata": {},
   "outputs": [],
   "source": [
    "import django\n",
    "django.setup()"
   ]
  },
  {
   "cell_type": "code",
   "execution_count": 17,
   "metadata": {},
   "outputs": [],
   "source": [
    "from roddi.models import *"
   ]
  },
  {
   "cell_type": "code",
   "execution_count": 18,
   "metadata": {},
   "outputs": [],
   "source": [
    "import setup_test_data\n",
    "setup_test_data.main()"
   ]
  },
  {
   "cell_type": "markdown",
   "metadata": {},
   "source": [
    "## Funksjon for å reprioritere ønskeliste"
   ]
  },
  {
   "cell_type": "code",
   "execution_count": 19,
   "metadata": {},
   "outputs": [],
   "source": [
    "daniel = User.objects.all()[0]"
   ]
  },
  {
   "cell_type": "code",
   "execution_count": 20,
   "metadata": {},
   "outputs": [
    {
     "data": {
      "text/plain": [
       "<QuerySet [<Wish: Daniel: Vase (5)>, <Wish: Daniel: Maleri (4)>, <Wish: Daniel: Gevær (1)>, <Wish: Daniel: Bord (0)>, <Wish: Daniel: Stol (3)>, <Wish: Daniel: PC (2)>]>"
      ]
     },
     "execution_count": 20,
     "metadata": {},
     "output_type": "execute_result"
    }
   ],
   "source": [
    "wishes = Wish.objects.filter(user=daniel)\n",
    "wishes"
   ]
  },
  {
   "cell_type": "markdown",
   "metadata": {},
   "source": [
    "### Nedprioritere"
   ]
  },
  {
   "cell_type": "code",
   "execution_count": 21,
   "metadata": {},
   "outputs": [],
   "source": [
    "vase = wishes[0].asset\n",
    "priority = 4"
   ]
  },
  {
   "cell_type": "code",
   "execution_count": 22,
   "metadata": {},
   "outputs": [
    {
     "data": {
      "text/plain": [
       "<Wish: Daniel: Vase (4)>"
      ]
     },
     "execution_count": 22,
     "metadata": {},
     "output_type": "execute_result"
    }
   ],
   "source": [
    "daniel.reprioritize(vase, priority)"
   ]
  },
  {
   "cell_type": "code",
   "execution_count": 23,
   "metadata": {},
   "outputs": [
    {
     "data": {
      "text/plain": [
       "<QuerySet [<Wish: Daniel: Vase (4)>, <Wish: Daniel: Maleri (5)>, <Wish: Daniel: Gevær (1)>, <Wish: Daniel: Bord (0)>, <Wish: Daniel: Stol (3)>, <Wish: Daniel: PC (2)>]>"
      ]
     },
     "execution_count": 23,
     "metadata": {},
     "output_type": "execute_result"
    }
   ],
   "source": [
    "Wish.objects.filter(user=daniel)"
   ]
  },
  {
   "cell_type": "markdown",
   "metadata": {},
   "source": [
    "### Opprioritere"
   ]
  },
  {
   "cell_type": "code",
   "execution_count": 24,
   "metadata": {},
   "outputs": [
    {
     "data": {
      "text/plain": [
       "<QuerySet [<Wish: Daniel: Vase (1)>, <Wish: Daniel: Maleri (5)>, <Wish: Daniel: Gevær (2)>, <Wish: Daniel: Bord (0)>, <Wish: Daniel: Stol (4)>, <Wish: Daniel: PC (3)>]>"
      ]
     },
     "execution_count": 24,
     "metadata": {},
     "output_type": "execute_result"
    }
   ],
   "source": [
    "daniel.reprioritize(vase, 1)\n",
    "Wish.objects.filter(user=daniel)"
   ]
  },
  {
   "cell_type": "markdown",
   "metadata": {},
   "source": [
    "### Ny eiendel"
   ]
  },
  {
   "cell_type": "code",
   "execution_count": 25,
   "metadata": {},
   "outputs": [
    {
     "data": {
      "text/plain": [
       "<QuerySet [<Wish: Daniel: Vase (1)>, <Wish: Daniel: Maleri (6)>, <Wish: Daniel: Gevær (2)>, <Wish: Daniel: Bord (0)>, <Wish: Daniel: Stol (5)>, <Wish: Daniel: PC (4)>, <Wish: Daniel: Giraffe (3)>]>"
      ]
     },
     "execution_count": 25,
     "metadata": {},
     "output_type": "execute_result"
    }
   ],
   "source": [
    "giraffe = Asset.objects.create(name='Giraffe', category='husdyr')\n",
    "daniel.reprioritize(giraffe, 3)\n",
    "Wish.objects.filter(user=daniel)"
   ]
  },
  {
   "cell_type": "markdown",
   "metadata": {},
   "source": [
    "Funksjonen reprioritize fungerer som den skal:)"
   ]
  }
 ],
 "metadata": {
  "kernelspec": {
   "display_name": "Python 3",
   "language": "python",
   "name": "python3"
  },
  "language_info": {
   "codemirror_mode": {
    "name": "ipython",
    "version": 3
   },
   "file_extension": ".py",
   "mimetype": "text/x-python",
   "name": "python",
   "nbconvert_exporter": "python",
   "pygments_lexer": "ipython3",
   "version": "3.8.5"
  }
 },
 "nbformat": 4,
 "nbformat_minor": 5
}
