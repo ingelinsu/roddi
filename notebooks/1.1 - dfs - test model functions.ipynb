{
 "cells": [
  {
   "cell_type": "markdown",
   "id": "bulgarian-salem",
   "metadata": {},
   "source": [
    "# Teste funksjoner i models.py\n",
    "## Initialisering"
   ]
  },
  {
   "cell_type": "code",
   "execution_count": 1,
   "id": "basic-savage",
   "metadata": {},
   "outputs": [
    {
     "data": {
      "text/plain": [
       "'backend.settings'"
      ]
     },
     "execution_count": 1,
     "metadata": {},
     "output_type": "execute_result"
    }
   ],
   "source": [
    "import os, sys\n",
    "os.environ[\"DJANGO_ALLOW_ASYNC_UNSAFE\"] = \"true\"\n",
    "sys.path.insert(0, r'C:\\Users\\dansch\\OneDrive\\Programvareutvikling\\Prosjekt\\roddi')\n",
    "os.environ.setdefault(\"DJANGO_SETTINGS_MODULE\", \"settingsfile\")"
   ]
  },
  {
   "cell_type": "code",
   "execution_count": 2,
   "id": "static-priority",
   "metadata": {},
   "outputs": [],
   "source": [
    "import django\n",
    "django.setup()"
   ]
  },
  {
   "cell_type": "code",
   "execution_count": 3,
   "id": "residential-seattle",
   "metadata": {},
   "outputs": [],
   "source": [
    "from roddi.models import *"
   ]
  },
  {
   "cell_type": "code",
   "execution_count": 20,
   "id": "touched-scholarship",
   "metadata": {},
   "outputs": [],
   "source": [
    "import setup_test_data\n",
    "setup_test_data.main()"
   ]
  },
  {
   "cell_type": "markdown",
   "id": "satellite-coral",
   "metadata": {},
   "source": [
    "## Funksjon for å reprioritere ønskeliste"
   ]
  },
  {
   "cell_type": "code",
   "execution_count": 21,
   "id": "realistic-forth",
   "metadata": {},
   "outputs": [],
   "source": [
    "daniel = User.objects.all()[0]"
   ]
  },
  {
   "cell_type": "code",
   "execution_count": 22,
   "id": "expired-twelve",
   "metadata": {},
   "outputs": [
    {
     "data": {
      "text/plain": [
       "<QuerySet [<Wish: Daniel: Vase (2)>, <Wish: Daniel: Maleri (1)>, <Wish: Daniel: Gevær (0)>, <Wish: Daniel: Bord (4)>, <Wish: Daniel: Stol (5)>, <Wish: Daniel: PC (3)>]>"
      ]
     },
     "execution_count": 22,
     "metadata": {},
     "output_type": "execute_result"
    }
   ],
   "source": [
    "wishes = Wish.objects.filter(user=daniel)\n",
    "wishes"
   ]
  },
  {
   "cell_type": "markdown",
   "id": "conditional-server",
   "metadata": {},
   "source": [
    "### Nedprioritere"
   ]
  },
  {
   "cell_type": "code",
   "execution_count": 23,
   "id": "democratic-hammer",
   "metadata": {},
   "outputs": [],
   "source": [
    "vase = wishes[0].asset\n",
    "priority = 4"
   ]
  },
  {
   "cell_type": "code",
   "execution_count": 24,
   "id": "remarkable-brunswick",
   "metadata": {},
   "outputs": [
    {
     "data": {
      "text/plain": [
       "<Wish: Daniel: Vase (4)>"
      ]
     },
     "execution_count": 24,
     "metadata": {},
     "output_type": "execute_result"
    }
   ],
   "source": [
    "daniel.reprioritize(vase, priority)"
   ]
  },
  {
   "cell_type": "code",
   "execution_count": 25,
   "id": "mechanical-exemption",
   "metadata": {},
   "outputs": [
    {
     "data": {
      "text/plain": [
       "<QuerySet [<Wish: Daniel: Vase (4)>, <Wish: Daniel: Maleri (1)>, <Wish: Daniel: Gevær (0)>, <Wish: Daniel: Bord (3)>, <Wish: Daniel: Stol (5)>, <Wish: Daniel: PC (2)>]>"
      ]
     },
     "execution_count": 25,
     "metadata": {},
     "output_type": "execute_result"
    }
   ],
   "source": [
    "Wish.objects.filter(user=daniel)"
   ]
  },
  {
   "cell_type": "markdown",
   "id": "packed-emerald",
   "metadata": {},
   "source": [
    "### Opprioritere"
   ]
  },
  {
   "cell_type": "code",
   "execution_count": 26,
   "id": "thirty-lightweight",
   "metadata": {},
   "outputs": [
    {
     "data": {
      "text/plain": [
       "<QuerySet [<Wish: Daniel: Vase (1)>, <Wish: Daniel: Maleri (2)>, <Wish: Daniel: Gevær (0)>, <Wish: Daniel: Bord (4)>, <Wish: Daniel: Stol (5)>, <Wish: Daniel: PC (3)>]>"
      ]
     },
     "execution_count": 26,
     "metadata": {},
     "output_type": "execute_result"
    }
   ],
   "source": [
    "daniel.reprioritize(vase, 1)\n",
    "Wish.objects.filter(user=daniel)"
   ]
  },
  {
   "cell_type": "markdown",
   "id": "engaged-phenomenon",
   "metadata": {},
   "source": [
    "### Ny eiendel"
   ]
  },
  {
   "cell_type": "code",
   "execution_count": 27,
   "id": "consistent-player",
   "metadata": {},
   "outputs": [
    {
     "data": {
      "text/plain": [
       "<QuerySet [<Wish: Daniel: Vase (1)>, <Wish: Daniel: Maleri (2)>, <Wish: Daniel: Gevær (0)>, <Wish: Daniel: Bord (5)>, <Wish: Daniel: Stol (6)>, <Wish: Daniel: PC (4)>, <Wish: Daniel: Giraffe (3)>]>"
      ]
     },
     "execution_count": 27,
     "metadata": {},
     "output_type": "execute_result"
    }
   ],
   "source": [
    "giraffe = Asset.objects.create(name='Giraffe', category='husdyr')\n",
    "daniel.reprioritize(giraffe, 3)\n",
    "Wish.objects.filter(user=daniel)"
   ]
  },
  {
   "cell_type": "markdown",
   "id": "entertaining-orlando",
   "metadata": {},
   "source": [
    "Funksjonen reprioritize fungerer som den skal:)"
   ]
  }
 ],
 "metadata": {
  "kernelspec": {
   "display_name": "Django Shell-Plus",
   "language": "python",
   "name": "django_extensions"
  },
  "language_info": {
   "codemirror_mode": {
    "name": "ipython",
    "version": 3
   },
   "file_extension": ".py",
   "mimetype": "text/x-python",
   "name": "python",
   "nbconvert_exporter": "python",
   "pygments_lexer": "ipython3",
   "version": "3.8.5"
  }
 },
 "nbformat": 4,
 "nbformat_minor": 5
}
