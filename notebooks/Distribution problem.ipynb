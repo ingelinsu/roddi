{
 "cells": [
  {
   "cell_type": "markdown",
   "id": "scientific-insert",
   "metadata": {},
   "source": [
    "# Hvordan fordele eiendeler med utgangspunkt i ønskelister?"
   ]
  },
  {
   "cell_type": "code",
   "execution_count": 1,
   "id": "recreational-admission",
   "metadata": {},
   "outputs": [],
   "source": [
    "import pandas as pd\n",
    "import numpy as np\n",
    "import matplotlib.pyplot as plt\n",
    "import itertools\n",
    "import cvxopt"
   ]
  },
  {
   "cell_type": "markdown",
   "id": "applied-excess",
   "metadata": {},
   "source": [
    "## Maksimal flyt med Edmonds Karp"
   ]
  },
  {
   "cell_type": "code",
   "execution_count": 14,
   "id": "light-illness",
   "metadata": {},
   "outputs": [
    {
     "data": {
      "text/plain": [
       "[array([0, 4, 2, 1, 3]), array([1, 3, 4, 0, 2]), array([3, 4, 0, 1, 2])]"
      ]
     },
     "execution_count": 14,
     "metadata": {},
     "output_type": "execute_result"
    }
   ],
   "source": [
    "users = ['A', 'B', 'C']\n",
    "assets = ['a', 'b', 'c', 'd', 'e']\n",
    "\n",
    "wishlists = [np.random.permutation(len(assets)) for u in users]\n",
    "wishlists"
   ]
  },
  {
   "cell_type": "code",
   "execution_count": 32,
   "id": "mediterranean-glory",
   "metadata": {},
   "outputs": [],
   "source": [
    "class Edge():\n",
    "    name = \"\"\n",
    "    flows = {}\n",
    "    capacities = {}\n",
    "    \n",
    "    def __init__(self, name):\n",
    "        self.name = name\n",
    "    \n",
    "    def __str__(self):\n",
    "        return self.name + \": \" + str(self.edges)\n",
    "    \n",
    "user_nodes = [Node(u) for u in users]\n",
    "asset_nodes = [Node(a) for a in assets]\n",
    "s = Node(\"s\")\n",
    "t = Node(\"t\")"
   ]
  },
  {
   "cell_type": "code",
   "execution_count": 35,
   "id": "dimensional-mustang",
   "metadata": {},
   "outputs": [],
   "source": [
    "for i in range(len(users)):\n",
    "    user_nodes[i].edges = {asset_nodes[j]: [0, wishlists[i][j]] for j in range(len(assets))} | {s: [0, len(assets)]}\n",
    "    \n",
    "for i in range(len(assets)):\n",
    "    asset_nodes[i].edges = {user_nodes[j]: [0, wishlists[j][i]) for j in range(len(users))} | {t: (0, len(assets))}\n",
    "    \n",
    "s.edges = {u_n: (0 len(assets) for u_n in user_nodes}\n",
    "t.edges = {a_n: len(assets) for a_n in asset_nodes}"
   ]
  },
  {
   "cell_type": "code",
   "execution_count": 48,
   "id": "clean-performance",
   "metadata": {},
   "outputs": [],
   "source": [
    "flows = {(u_n, a_n): 0 for u_n, a_n in itertools.product(user_nodes, asset_nodes)}\\\n",
    "        | {(s, u_n): 0 for u_n in user_nodes}\\\n",
    "        | {(a_n, t): 0 for a_n in asset_nodes}"
   ]
  },
  {
   "cell_type": "code",
   "execution_count": 51,
   "id": "humanitarian-drinking",
   "metadata": {},
   "outputs": [],
   "source": [
    "edges = list(flows.keys())"
   ]
  },
  {
   "cell_type": "code",
   "execution_count": null,
   "id": "thousand-pursuit",
   "metadata": {},
   "outputs": [],
   "source": [
    "flow = 0\n",
    "while True:\n",
    "    queue = [s]\n",
    "    visited = []\n",
    "    while len(q) > 0:\n",
    "        current = queue.pop()\n",
    "        for edge in current.edges:\n",
    "            "
   ]
  },
  {
   "cell_type": "markdown",
   "id": "controlling-observer",
   "metadata": {},
   "source": [
    "Etter litt refleksjon har jeg kommet på at løsninger på maksimal flyt kan gi fordelinger der enkelteiendeler må deles mellom brukere. Dette er upraktisk i praksis. Vi kan derfor ikke bruke maksimal flyt."
   ]
  },
  {
   "cell_type": "markdown",
   "id": "excellent-organization",
   "metadata": {},
   "source": [
    "## 0-1 Integer Lineær programmering\n",
    "\"Minimize c*x subject to Ax <=b, x ∈ {0, 1}\""
   ]
  },
  {
   "cell_type": "code",
   "execution_count": 205,
   "id": "variable-slovak",
   "metadata": {},
   "outputs": [
    {
     "data": {
      "text/plain": [
       "[2, 3, 0, 1, 4]"
      ]
     },
     "execution_count": 205,
     "metadata": {},
     "output_type": "execute_result"
    }
   ],
   "source": [
    "asset_ids = ['a', 'b', 'c', 'd', 'e']\n",
    "wishlist = ['c', 'd', 'a', 'b', 'e']\n",
    "[asset_ids.index(asset_id) for asset_id in wishlist]"
   ]
  },
  {
   "cell_type": "code",
   "execution_count": 162,
   "id": "floral-beatles",
   "metadata": {},
   "outputs": [
    {
     "data": {
      "text/plain": [
       "array([-1, -5, -2, -3, -4, -3, -1, -2, -5, -4, -1, -4, -3, -5, -2])"
      ]
     },
     "execution_count": 162,
     "metadata": {},
     "output_type": "execute_result"
    }
   ],
   "source": [
    "users = ['A', 'B', 'C']\n",
    "assets = ['a', 'b', 'c', 'd', 'e']\n",
    "\n",
    "wishlists = [np.random.permutation(len(assets)) for u in users]\n",
    "c = np.hstack(wishlists) - len(assets)\n",
    "c"
   ]
  },
  {
   "cell_type": "code",
   "execution_count": 163,
   "id": "alike-laundry",
   "metadata": {},
   "outputs": [
    {
     "data": {
      "text/plain": [
       "[array([4, 0, 3, 2, 1]), array([2, 4, 3, 0, 1]), array([4, 1, 2, 0, 3])]"
      ]
     },
     "execution_count": 163,
     "metadata": {},
     "output_type": "execute_result"
    }
   ],
   "source": [
    "wishlists"
   ]
  },
  {
   "cell_type": "code",
   "execution_count": 164,
   "id": "certified-sewing",
   "metadata": {},
   "outputs": [
    {
     "data": {
      "text/plain": [
       "[[1], [2], [2], [3]]"
      ]
     },
     "execution_count": 164,
     "metadata": {},
     "output_type": "execute_result"
    }
   ],
   "source": [
    "[[1], [2]] + [[2], [3]]"
   ]
  },
  {
   "cell_type": "code",
   "execution_count": 176,
   "id": "indirect-separate",
   "metadata": {},
   "outputs": [
    {
     "data": {
      "text/plain": [
       "array([[ 1,  0,  0,  0,  0,  1,  0,  0,  0,  0,  1,  0,  0,  0,  0],\n",
       "       [ 0,  1,  0,  0,  0,  0,  1,  0,  0,  0,  0,  1,  0,  0,  0],\n",
       "       [ 0,  0,  1,  0,  0,  0,  0,  1,  0,  0,  0,  0,  1,  0,  0],\n",
       "       [ 0,  0,  0,  1,  0,  0,  0,  0,  1,  0,  0,  0,  0,  1,  0],\n",
       "       [ 0,  0,  0,  0,  1,  0,  0,  0,  0,  1,  0,  0,  0,  0,  1],\n",
       "       [-1, -5, -2, -3, -4,  0,  0,  0,  0,  0,  0,  0,  0,  0,  0],\n",
       "       [ 0,  0,  0,  0,  0, -3, -1, -2, -5, -4,  0,  0,  0,  0,  0],\n",
       "       [ 0,  0,  0,  0,  0,  0,  0,  0,  0,  0, -1, -4, -3, -5, -2]])"
      ]
     },
     "execution_count": 176,
     "metadata": {},
     "output_type": "execute_result"
    }
   ],
   "source": [
    "max_one_user_per_asset = [[1 if (i-j)%len(assets)==0 else 0 for i in range(len(c))] for j in range(len(assets))]\n",
    "fair_distribution = [[c[i] if len(assets)*j <= i < len(assets)*(j+1) else 0 for i in range(len(c))] for j in range(len(users))]\n",
    "A = np.array(max_one_user_per_asset + fair_distribution)\n",
    "A"
   ]
  },
  {
   "cell_type": "code",
   "execution_count": 188,
   "id": "advisory-sauce",
   "metadata": {},
   "outputs": [
    {
     "data": {
      "text/plain": [
       "array([ 1.,  1.,  1.,  1.,  1., -5., -5., -5.])"
      ]
     },
     "execution_count": 188,
     "metadata": {},
     "output_type": "execute_result"
    }
   ],
   "source": [
    "max_one_user_per_asset_sum = [1] * len(assets)\n",
    "fair_distribution_sum = [c[:len(assets)].sum() / len(users)] * len(users)\n",
    "b = np.array(max_one_user_per_asset_sum + fair_distribution_sum)\n",
    "b"
   ]
  },
  {
   "cell_type": "code",
   "execution_count": 189,
   "id": "failing-phone",
   "metadata": {},
   "outputs": [
    {
     "data": {
      "text/plain": [
       "(8, 15)"
      ]
     },
     "execution_count": 189,
     "metadata": {},
     "output_type": "execute_result"
    }
   ],
   "source": [
    "A.shape"
   ]
  },
  {
   "cell_type": "code",
   "execution_count": 190,
   "id": "applied-scanner",
   "metadata": {},
   "outputs": [
    {
     "data": {
      "text/plain": [
       "<8x15 matrix, tc='d'>"
      ]
     },
     "execution_count": 190,
     "metadata": {},
     "output_type": "execute_result"
    }
   ],
   "source": [
    "G = cvxopt.matrix(A, tc='d')\n",
    "G"
   ]
  },
  {
   "cell_type": "code",
   "execution_count": 191,
   "id": "settled-leadership",
   "metadata": {},
   "outputs": [
    {
     "data": {
      "text/plain": [
       "<8x1 matrix, tc='d'>"
      ]
     },
     "execution_count": 191,
     "metadata": {},
     "output_type": "execute_result"
    }
   ],
   "source": [
    "h=cvxopt.matrix(b, tc='d')\n",
    "h"
   ]
  },
  {
   "cell_type": "code",
   "execution_count": 192,
   "id": "nasty-equation",
   "metadata": {},
   "outputs": [
    {
     "data": {
      "text/plain": [
       "('optimal', <15x1 matrix, tc='d'>)"
      ]
     },
     "execution_count": 192,
     "metadata": {},
     "output_type": "execute_result"
    }
   ],
   "source": [
    "from cvxopt.glpk import ilp\n",
    "\n",
    "solution = ilp(c=cvxopt.matrix(c, tc='d'),\n",
    "               G=cvxopt.matrix(A, tc='d'),\n",
    "               h=cvxopt.matrix(b, tc='d'),\n",
    "               B=set(range(len(c))))\n",
    "solution"
   ]
  },
  {
   "cell_type": "code",
   "execution_count": 193,
   "id": "novel-trail",
   "metadata": {},
   "outputs": [
    {
     "data": {
      "text/plain": [
       "array([0., 1., 0., 0., 0., 1., 0., 0., 0., 1., 0., 0., 1., 1., 0.])"
      ]
     },
     "execution_count": 193,
     "metadata": {},
     "output_type": "execute_result"
    }
   ],
   "source": [
    "opt = np.array(list(solution[1]))\n",
    "opt"
   ]
  },
  {
   "cell_type": "code",
   "execution_count": 194,
   "id": "changed-convenience",
   "metadata": {},
   "outputs": [
    {
     "data": {
      "text/plain": [
       "array([ 1.,  1.,  1.,  1.,  1., -5., -7., -8.])"
      ]
     },
     "execution_count": 194,
     "metadata": {},
     "output_type": "execute_result"
    }
   ],
   "source": [
    "np.matmul(A, opt)"
   ]
  },
  {
   "cell_type": "code",
   "execution_count": 195,
   "id": "impossible-worth",
   "metadata": {},
   "outputs": [
    {
     "data": {
      "text/plain": [
       "array([-1, -5, -2, -3, -4, -3, -1, -2, -5, -4, -1, -4, -3, -5, -2])"
      ]
     },
     "execution_count": 195,
     "metadata": {},
     "output_type": "execute_result"
    }
   ],
   "source": [
    "c"
   ]
  },
  {
   "cell_type": "code",
   "execution_count": 196,
   "id": "placed-location",
   "metadata": {},
   "outputs": [
    {
     "data": {
      "text/plain": [
       "array([[-0., -5., -0., -0., -0.],\n",
       "       [-3., -0., -0., -0., -4.],\n",
       "       [-0., -0., -3., -5., -0.]])"
      ]
     },
     "execution_count": 196,
     "metadata": {},
     "output_type": "execute_result"
    }
   ],
   "source": [
    "np.resize(np.multiply(c, opt), (len(users), len(assets)))"
   ]
  },
  {
   "cell_type": "code",
   "execution_count": 197,
   "id": "pretty-familiar",
   "metadata": {},
   "outputs": [],
   "source": [
    "# np.matmul(A, np.array(solution[1]))"
   ]
  },
  {
   "cell_type": "markdown",
   "id": "reliable-contributor",
   "metadata": {},
   "source": [
    "Litt testing og logikk tilsier at denne algoritmen er optimal og rettferdig. Vi går derfor for binær linear programmering som løsning."
   ]
  },
  {
   "cell_type": "code",
   "execution_count": null,
   "id": "severe-tragedy",
   "metadata": {},
   "outputs": [],
   "source": []
  }
 ],
 "metadata": {
  "kernelspec": {
   "display_name": "Python 3",
   "language": "python",
   "name": "python3"
  },
  "language_info": {
   "codemirror_mode": {
    "name": "ipython",
    "version": 3
   },
   "file_extension": ".py",
   "mimetype": "text/x-python",
   "name": "python",
   "nbconvert_exporter": "python",
   "pygments_lexer": "ipython3",
   "version": "3.9.1"
  }
 },
 "nbformat": 4,
 "nbformat_minor": 5
}
