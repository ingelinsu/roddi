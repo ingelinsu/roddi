{
 "cells": [
  {
   "cell_type": "code",
   "execution_count": 1,
   "id": "posted-affairs",
   "metadata": {},
   "outputs": [
    {
     "name": "stdout",
     "output_type": "stream",
     "text": [
      "Collecting django-extensions\n",
      "  Using cached django_extensions-3.1.1-py3-none-any.whl (222 kB)\n",
      "Installing collected packages: django-extensions\n",
      "Successfully installed django-extensions-3.1.1\n",
      "Note: you may need to restart the kernel to use updated packages.\n"
     ]
    }
   ],
   "source": [
    "pip install django\n",
    "pip install django-rest-framework\n",
    "pip install django-cors-headers\n",
    "pip install django-extensions"
   ]
  },
  {
   "cell_type": "code",
   "execution_count": 1,
   "id": "destroyed-design",
   "metadata": {},
   "outputs": [],
   "source": [
    "import os\n",
    "os.environ[\"DJANGO_ALLOW_ASYNC_UNSAFE\"] = \"true\""
   ]
  },
  {
   "cell_type": "markdown",
   "id": "scientific-insert",
   "metadata": {},
   "source": [
    "# Hvordan fordele eiendeler med utgangspunkt i ønskelister?"
   ]
  },
  {
   "cell_type": "code",
   "execution_count": 2,
   "id": "recreational-admission",
   "metadata": {},
   "outputs": [],
   "source": [
    "import pandas as pd\n",
    "import numpy as np\n",
    "import matplotlib.pyplot as plt\n",
    "import itertools\n",
    "import cvxopt"
   ]
  },
  {
   "cell_type": "markdown",
   "id": "applied-excess",
   "metadata": {},
   "source": [
    "## Maksimal flyt med Edmonds Karp"
   ]
  },
  {
   "cell_type": "code",
   "execution_count": 14,
   "id": "light-illness",
   "metadata": {},
   "outputs": [
    {
     "data": {
      "text/plain": [
       "[array([0, 4, 2, 1, 3]), array([1, 3, 4, 0, 2]), array([3, 4, 0, 1, 2])]"
      ]
     },
     "execution_count": 14,
     "metadata": {},
     "output_type": "execute_result"
    }
   ],
   "source": [
    "users = ['A', 'B', 'C']\n",
    "assets = ['a', 'b', 'c', 'd', 'e']\n",
    "\n",
    "wishlists = [np.random.permutation(len(assets)) for u in users]\n",
    "wishlists"
   ]
  },
  {
   "cell_type": "code",
   "execution_count": 32,
   "id": "mediterranean-glory",
   "metadata": {},
   "outputs": [],
   "source": [
    "class Edge():\n",
    "    name = \"\"\n",
    "    flows = {}\n",
    "    capacities = {}\n",
    "    \n",
    "    def __init__(self, name):\n",
    "        self.name = name\n",
    "    \n",
    "    def __str__(self):\n",
    "        return self.name + \": \" + str(self.edges)\n",
    "    \n",
    "user_nodes = [Node(u) for u in users]\n",
    "asset_nodes = [Node(a) for a in assets]\n",
    "s = Node(\"s\")\n",
    "t = Node(\"t\")"
   ]
  },
  {
   "cell_type": "code",
   "execution_count": 35,
   "id": "dimensional-mustang",
   "metadata": {},
   "outputs": [],
   "source": [
    "for i in range(len(users)):\n",
    "    user_nodes[i].edges = {asset_nodes[j]: [0, wishlists[i][j]] for j in range(len(assets))} | {s: [0, len(assets)]}\n",
    "    \n",
    "for i in range(len(assets)):\n",
    "    asset_nodes[i].edges = {user_nodes[j]: [0, wishlists[j][i]) for j in range(len(users))} | {t: (0, len(assets))}\n",
    "    \n",
    "s.edges = {u_n: (0 len(assets)) for u_n in user_nodes}\n",
    "t.edges = {a_n: len(assets) for a_n in asset_nodes}"
   ]
  },
  {
   "cell_type": "code",
   "execution_count": 48,
   "id": "clean-performance",
   "metadata": {},
   "outputs": [],
   "source": [
    "flows = {(u_n, a_n): 0 for u_n, a_n in itertools.product(user_nodes, asset_nodes)}\\\n",
    "        | {(s, u_n): 0 for u_n in user_nodes}\\\n",
    "        | {(a_n, t): 0 for a_n in asset_nodes}"
   ]
  },
  {
   "cell_type": "code",
   "execution_count": 51,
   "id": "humanitarian-drinking",
   "metadata": {},
   "outputs": [],
   "source": [
    "edges = list(flows.keys())"
   ]
  },
  {
   "cell_type": "code",
   "execution_count": null,
   "id": "thousand-pursuit",
   "metadata": {},
   "outputs": [],
   "source": [
    "flow = 0\n",
    "while True:\n",
    "    queue = [s]\n",
    "    visited = []\n",
    "    while len(q) > 0:\n",
    "        current = queue.pop()\n",
    "        for edge in current.edges:\n",
    "            "
   ]
  },
  {
   "cell_type": "markdown",
   "id": "controlling-observer",
   "metadata": {},
   "source": [
    "Etter litt refleksjon har jeg kommet på at løsninger på maksimal flyt kan gi fordelinger der enkelteiendeler må deles mellom brukere. Dette er upraktisk i praksis. Vi kan derfor ikke bruke maksimal flyt."
   ]
  },
  {
   "cell_type": "markdown",
   "id": "excellent-organization",
   "metadata": {},
   "source": [
    "## 0-1 Integer Lineær programmering\n",
    "\"Minimize c*x subject to Ax <=b, x ∈ {0, 1}\""
   ]
  },
  {
   "cell_type": "code",
   "execution_count": 22,
   "id": "signed-alexandria",
   "metadata": {},
   "outputs": [],
   "source": [
    "relation_weights = {\n",
    "    'child': 1,\n",
    "    'parent': 0.8,\n",
    "    'sibling': 0.7,\n",
    "    'grandchildren': 0.6,\n",
    "    'grandparent': 0.4,\n",
    "    'pibling': 0.15,\n",
    "    'other': 0.1\n",
    "}\n",
    "\n",
    "relation_priority = ['child', 'parent', 'sibling', 'grandchildren', 'grandparent', 'pibling', 'other']"
   ]
  },
  {
   "cell_type": "code",
   "execution_count": 23,
   "id": "floral-beatles",
   "metadata": {},
   "outputs": [
    {
     "data": {
      "text/plain": [
       "array([-1.4, -0.7, -2.8, -2.1, -3.5, -3.5, -2.1, -2.8, -1.4, -0.7, -2.4,\n",
       "       -3. , -0.6, -1.2, -1.8])"
      ]
     },
     "execution_count": 23,
     "metadata": {},
     "output_type": "execute_result"
    }
   ],
   "source": [
    "users = ['A', 'B', 'C']\n",
    "relations = np.random.choice(relation_priority, len(users))\n",
    "assets = ['a', 'b', 'c', 'd', 'e']\n",
    "\n",
    "wishlists = [np.random.permutation(len(assets)) for u in users]\n",
    "wish_hstack = np.hstack(wishlists) - len(assets)\n",
    "c = np.array([wish_hstack[i] * relation_weights[relations[i//len(assets)]] for i in range(len(wish_hstack))])\n",
    "c"
   ]
  },
  {
   "cell_type": "code",
   "execution_count": 24,
   "id": "searching-millennium",
   "metadata": {},
   "outputs": [
    {
     "data": {
      "text/plain": [
       "array(['sibling', 'sibling', 'grandchildren'], dtype='<U13')"
      ]
     },
     "execution_count": 24,
     "metadata": {},
     "output_type": "execute_result"
    }
   ],
   "source": [
    "relations"
   ]
  },
  {
   "cell_type": "code",
   "execution_count": 46,
   "id": "driving-purple",
   "metadata": {},
   "outputs": [
    {
     "data": {
      "text/plain": [
       "1.4285714285714286"
      ]
     },
     "execution_count": 46,
     "metadata": {},
     "output_type": "execute_result"
    }
   ],
   "source": [
    "weight_factor = 1 / max(relation_weights[relation] for relation in relations)\n",
    "weight_factor"
   ]
  },
  {
   "cell_type": "code",
   "execution_count": 25,
   "id": "indirect-separate",
   "metadata": {},
   "outputs": [
    {
     "data": {
      "text/plain": [
       "array([[ 1,  0,  0,  0,  0,  1,  0,  0,  0,  0,  1,  0,  0,  0,  0],\n",
       "       [ 0,  1,  0,  0,  0,  0,  1,  0,  0,  0,  0,  1,  0,  0,  0],\n",
       "       [ 0,  0,  1,  0,  0,  0,  0,  1,  0,  0,  0,  0,  1,  0,  0],\n",
       "       [ 0,  0,  0,  1,  0,  0,  0,  0,  1,  0,  0,  0,  0,  1,  0],\n",
       "       [ 0,  0,  0,  0,  1,  0,  0,  0,  0,  1,  0,  0,  0,  0,  1],\n",
       "       [-2, -1, -4, -3, -5,  0,  0,  0,  0,  0,  0,  0,  0,  0,  0],\n",
       "       [ 0,  0,  0,  0,  0, -5, -3, -4, -2, -1,  0,  0,  0,  0,  0],\n",
       "       [ 0,  0,  0,  0,  0,  0,  0,  0,  0,  0, -4, -5, -1, -2, -3]])"
      ]
     },
     "execution_count": 25,
     "metadata": {},
     "output_type": "execute_result"
    }
   ],
   "source": [
    "max_one_user_per_asset = [[1 if (i-j)%len(assets)==0 else 0 for i in range(len(c))] for j in range(len(assets))]\n",
    "fair_distribution = [[wish_hstack[i] if len(assets)*j <= i < len(assets)*(j+1) else 0 for i in range(len(c))] for j in range(len(users))]\n",
    "A = np.array(max_one_user_per_asset + fair_distribution)\n",
    "A"
   ]
  },
  {
   "cell_type": "code",
   "execution_count": 47,
   "id": "advisory-sauce",
   "metadata": {},
   "outputs": [
    {
     "data": {
      "text/plain": [
       "array([ 1.        ,  1.        ,  1.        ,  1.        ,  1.        ,\n",
       "       -5.        , -5.        , -4.28571429])"
      ]
     },
     "execution_count": 47,
     "metadata": {},
     "output_type": "execute_result"
    }
   ],
   "source": [
    "max_one_user_per_asset_sum = [1] * len(assets)\n",
    "fair_distribution_sum = [wish_hstack[:len(assets)].sum() * relation_weights[relation] * weight_factor / len(users) for relation in relations]\n",
    "b = np.array(max_one_user_per_asset_sum + fair_distribution_sum)\n",
    "b"
   ]
  },
  {
   "cell_type": "code",
   "execution_count": 48,
   "id": "colonial-steps",
   "metadata": {},
   "outputs": [
    {
     "data": {
      "text/plain": [
       "(8, 15)"
      ]
     },
     "execution_count": 48,
     "metadata": {},
     "output_type": "execute_result"
    }
   ],
   "source": [
    "A.shape"
   ]
  },
  {
   "cell_type": "code",
   "execution_count": 49,
   "id": "applied-scanner",
   "metadata": {},
   "outputs": [
    {
     "data": {
      "text/plain": [
       "<8x15 matrix, tc='d'>"
      ]
     },
     "execution_count": 49,
     "metadata": {},
     "output_type": "execute_result"
    }
   ],
   "source": [
    "G = cvxopt.matrix(A, tc='d')\n",
    "G"
   ]
  },
  {
   "cell_type": "code",
   "execution_count": 50,
   "id": "third-strip",
   "metadata": {},
   "outputs": [
    {
     "data": {
      "text/plain": [
       "<8x1 matrix, tc='d'>"
      ]
     },
     "execution_count": 50,
     "metadata": {},
     "output_type": "execute_result"
    }
   ],
   "source": [
    "h=cvxopt.matrix(b, tc='d')\n",
    "h"
   ]
  },
  {
   "cell_type": "code",
   "execution_count": 51,
   "id": "nasty-equation",
   "metadata": {},
   "outputs": [
    {
     "data": {
      "text/plain": [
       "('optimal', <15x1 matrix, tc='d'>)"
      ]
     },
     "execution_count": 51,
     "metadata": {},
     "output_type": "execute_result"
    }
   ],
   "source": [
    "from cvxopt.glpk import ilp\n",
    "\n",
    "solution = ilp(c=cvxopt.matrix(c, tc='d'),\n",
    "               G=cvxopt.matrix(A, tc='d'),\n",
    "               h=cvxopt.matrix(b, tc='d'),\n",
    "               B=set(range(len(c))))\n",
    "solution"
   ]
  },
  {
   "cell_type": "code",
   "execution_count": 52,
   "id": "dedicated-anderson",
   "metadata": {},
   "outputs": [
    {
     "data": {
      "text/plain": [
       "array([0., 0., 1., 1., 1., 1., 0., 0., 0., 0., 0., 1., 0., 0., 0.])"
      ]
     },
     "execution_count": 52,
     "metadata": {},
     "output_type": "execute_result"
    }
   ],
   "source": [
    "opt = np.array(list(solution[1]))\n",
    "opt"
   ]
  },
  {
   "cell_type": "code",
   "execution_count": 53,
   "id": "rotary-scottish",
   "metadata": {},
   "outputs": [
    {
     "data": {
      "text/plain": [
       "array([  1.,   1.,   1.,   1.,   1., -12.,  -5.,  -5.])"
      ]
     },
     "execution_count": 53,
     "metadata": {},
     "output_type": "execute_result"
    }
   ],
   "source": [
    "np.matmul(A, opt)"
   ]
  },
  {
   "cell_type": "markdown",
   "id": "geological-skating",
   "metadata": {},
   "source": [
    "Litt testing og logikk tilsier at denne algoritmen er optimal og rettferdig. Vi går derfor for binær linear programmering som løsning."
   ]
  },
  {
   "cell_type": "markdown",
   "id": "tracked-mexico",
   "metadata": {},
   "source": [
    "## Testing av full_distribution()"
   ]
  },
  {
   "cell_type": "code",
   "execution_count": 3,
   "id": "numerical-criterion",
   "metadata": {},
   "outputs": [],
   "source": [
    "import django\n",
    "django.setup()"
   ]
  },
  {
   "cell_type": "code",
   "execution_count": 4,
   "id": "expanded-bruce",
   "metadata": {},
   "outputs": [],
   "source": [
    "from roddi.models import *"
   ]
  },
  {
   "cell_type": "code",
   "execution_count": 5,
   "id": "promising-defensive",
   "metadata": {},
   "outputs": [
    {
     "data": {
      "text/plain": [
       "<QuerySet [<Asset: Vase>, <Asset: Maleri>, <Asset: Gevær>, <Asset: Bord>, <Asset: Stol>, <Asset: PC>]>"
      ]
     },
     "execution_count": 5,
     "metadata": {},
     "output_type": "execute_result"
    }
   ],
   "source": [
    "Asset.objects.all()"
   ]
  },
  {
   "cell_type": "code",
   "execution_count": 6,
   "id": "fewer-demographic",
   "metadata": {},
   "outputs": [
    {
     "data": {
      "text/plain": [
       "(0, {})"
      ]
     },
     "execution_count": 6,
     "metadata": {},
     "output_type": "execute_result"
    }
   ],
   "source": [
    "Asset.objects.all().delete()\n",
    "User.objects.all().delete()\n",
    "Estate.objects.all().delete()\n",
    "Comment.objects.all().delete()\n",
    "Wish.objects.all().delete()"
   ]
  },
  {
   "cell_type": "code",
   "execution_count": 7,
   "id": "attractive-range",
   "metadata": {},
   "outputs": [],
   "source": [
    "users = [\n",
    "    User.objects.create(name='Daniel', email='daniefs@stud.ntnu.no', age=20, relation_to_dead='pibling'),\n",
    "    User.objects.create(name='Philip', email='philiped@stud.ntnu.no', age=20, relation_to_dead='sibling'),\n",
    "    User.objects.create(name='Steffen', email='steffeah@stud.ntnu.no', age=20, relation_to_dead='parent')\n",
    "]\n",
    "\n",
    "for user in users:\n",
    "    user.save()"
   ]
  },
  {
   "cell_type": "code",
   "execution_count": 8,
   "id": "operating-asset",
   "metadata": {},
   "outputs": [],
   "source": [
    "assets = [\n",
    "    Asset.objects.create(name='Vase', category='interiør'),\n",
    "    Asset.objects.create(name='Maleri', category='kunst'),\n",
    "    Asset.objects.create(name='Gevær', category='våpen'),\n",
    "    Asset.objects.create(name='Bord', category='møbler'),\n",
    "    Asset.objects.create(name='Stol', category='møbler'),\n",
    "    Asset.objects.create(name='PC', category='elektronikk')\n",
    "]\n",
    "\n",
    "for asset in assets:\n",
    "    asset.save()"
   ]
  },
  {
   "cell_type": "code",
   "execution_count": 9,
   "id": "romantic-extreme",
   "metadata": {},
   "outputs": [
    {
     "data": {
      "text/plain": [
       "<QuerySet [<Asset: Vase>, <Asset: Maleri>, <Asset: Gevær>, <Asset: Bord>, <Asset: Stol>, <Asset: PC>]>"
      ]
     },
     "execution_count": 9,
     "metadata": {},
     "output_type": "execute_result"
    }
   ],
   "source": [
    "Asset.objects.all()"
   ]
  },
  {
   "cell_type": "code",
   "execution_count": 10,
   "id": "illegal-london",
   "metadata": {},
   "outputs": [],
   "source": [
    "estate = Estate.objects.create(name='Hans Hansens dødsbo', is_complete=False)\n",
    "estate.save()\n",
    "estate.users.add(*users)\n",
    "estate.assets.add(*assets)"
   ]
  },
  {
   "cell_type": "code",
   "execution_count": 12,
   "id": "graduate-equity",
   "metadata": {},
   "outputs": [],
   "source": [
    "wishes = [\n",
    "    [\n",
    "        Wish.objects.create(user=user, asset=assets[i], priority=priorities[i])\n",
    "        for i in range(len(assets))\n",
    "        if (priorities := np.random.permutation(len(assets)) + 1) is not None\n",
    "    ]\n",
    "    for user in users\n",
    "]\n",
    "\n",
    "for wishlist in wishes:\n",
    "    for wish in wishlist:\n",
    "        wish.save()"
   ]
  },
  {
   "cell_type": "code",
   "execution_count": 14,
   "id": "adjacent-malpractice",
   "metadata": {},
   "outputs": [],
   "source": [
    "estate.full_distribution()"
   ]
  },
  {
   "cell_type": "code",
   "execution_count": 15,
   "id": "third-nitrogen",
   "metadata": {},
   "outputs": [
    {
     "data": {
      "text/plain": [
       "['pibling', 'sibling', 'parent']"
      ]
     },
     "execution_count": 15,
     "metadata": {},
     "output_type": "execute_result"
    }
   ],
   "source": [
    "[user.relation_to_dead for user in users]"
   ]
  },
  {
   "cell_type": "code",
   "execution_count": 16,
   "id": "pressing-literacy",
   "metadata": {},
   "outputs": [
    {
     "data": {
      "text/plain": [
       "[[<Asset: Maleri>,\n",
       "  <Asset: Gevær>,\n",
       "  <Asset: Stol>,\n",
       "  <Asset: Vase>,\n",
       "  <Asset: Bord>,\n",
       "  <Asset: PC>],\n",
       " [<Asset: Gevær>,\n",
       "  <Asset: Vase>,\n",
       "  <Asset: Maleri>,\n",
       "  <Asset: Bord>,\n",
       "  <Asset: PC>,\n",
       "  <Asset: Stol>],\n",
       " [<Asset: PC>,\n",
       "  <Asset: Stol>,\n",
       "  <Asset: Maleri>,\n",
       "  <Asset: Bord>,\n",
       "  <Asset: Vase>,\n",
       "  <Asset: Gevær>]]"
      ]
     },
     "execution_count": 16,
     "metadata": {},
     "output_type": "execute_result"
    }
   ],
   "source": [
    "[user.get_ordered_wishlist() for user in users]"
   ]
  },
  {
   "cell_type": "code",
   "execution_count": 19,
   "id": "treated-absorption",
   "metadata": {},
   "outputs": [
    {
     "data": {
      "text/plain": [
       "[<QuerySet [<Asset: Bord>]>,\n",
       " <QuerySet [<Asset: Vase>, <Asset: Maleri>]>,\n",
       " <QuerySet [<Asset: Gevær>, <Asset: Stol>, <Asset: PC>]>]"
      ]
     },
     "execution_count": 19,
     "metadata": {},
     "output_type": "execute_result"
    }
   ],
   "source": [
    "[user.obtained_assets.all() for user in users]"
   ]
  },
  {
   "cell_type": "code",
   "execution_count": 16,
   "id": "completed-clark",
   "metadata": {},
   "outputs": [
    {
     "data": {
      "text/plain": [
       "True"
      ]
     },
     "execution_count": 16,
     "metadata": {},
     "output_type": "execute_result"
    }
   ],
   "source": [
    "estate.is_complete"
   ]
  },
  {
   "cell_type": "markdown",
   "id": "banner-lafayette",
   "metadata": {},
   "source": [
    "Alt ser ut til å fungere"
   ]
  },
  {
   "cell_type": "code",
   "execution_count": 20,
   "id": "integral-puzzle",
   "metadata": {},
   "outputs": [],
   "source": [
    "?ilp"
   ]
  },
  {
   "cell_type": "code",
   "execution_count": null,
   "id": "norwegian-nancy",
   "metadata": {},
   "outputs": [],
   "source": []
  }
 ],
 "metadata": {
  "kernelspec": {
   "display_name": "Django Shell-Plus",
   "language": "python",
   "name": "django_extensions"
  },
  "language_info": {
   "codemirror_mode": {
    "name": "ipython",
    "version": 3
   },
   "file_extension": ".py",
   "mimetype": "text/x-python",
   "name": "python",
   "nbconvert_exporter": "python",
   "pygments_lexer": "ipython3",
   "version": "3.9.1"
  }
 },
 "nbformat": 4,
 "nbformat_minor": 5
}
